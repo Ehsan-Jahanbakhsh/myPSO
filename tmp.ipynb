{
 "cells": [
  {
   "cell_type": "code",
   "execution_count": 1,
   "metadata": {},
   "outputs": [],
   "source": [
    "import numpy as np\n",
    "from pso import *\n",
    "import networkx as nx\n",
    "import math"
   ]
  },
  {
   "cell_type": "code",
   "execution_count": 2,
   "metadata": {},
   "outputs": [],
   "source": [
    "def booth(x):\n",
    "    \"\"\"Booth's objective function.\n",
    "\n",
    "    Only takes two dimensions and has a global minimum of `0` at\n",
    "    :code:`f([1,3])`. Its domain is bounded between :code:`[-10, 10]`\n",
    "\n",
    "    Parameters\n",
    "    ----------\n",
    "    x : numpy.ndarray\n",
    "        set of inputs of shape :code:`(n_particles, dimensions)`\n",
    "\n",
    "    Returns\n",
    "    -------\n",
    "    numpy.ndarray\n",
    "        computed cost of size :code:`(n_particles, )`\n",
    "\n",
    "    Raises\n",
    "    ------\n",
    "    IndexError\n",
    "        When the input dimensions is greater than what the function\n",
    "        allows\n",
    "    ValueError\n",
    "        When the input is out of bounds with respect to the function\n",
    "        domain\n",
    "    \"\"\"\n",
    "    if not x.shape[1] == 2:\n",
    "        raise IndexError(\"Booth function only takes two-dimensional input.\")\n",
    "    if not np.logical_and(x >= -10, x <= 10).all():\n",
    "        raise ValueError(\"Input for Booth function must be within [-10, 10].\")\n",
    "\n",
    "    x_ = x[:, 0]\n",
    "    y_ = x[:, 1]\n",
    "    j = (x_ + 2 * y_ - 7) ** 2.0 + (2 * x_ + y_ - 5) ** 2.0\n",
    "\n",
    "    return j"
   ]
  },
  {
   "cell_type": "code",
   "execution_count": 3,
   "metadata": {},
   "outputs": [],
   "source": [
    "def easom(x):\n",
    "    \"\"\"Easom objective function.\n",
    "\n",
    "    Only takes two dimensions and has a global minimum of\n",
    "    `-1` at :code:`f([pi, pi])`.\n",
    "    Its coordinates are bounded within :code:`[-100,100]`.\n",
    "\n",
    "    Best visualized in the domain of :code:`[-5, 5]` and a range of :code:`[-1, 0.2]`.\n",
    "\n",
    "    Parameters\n",
    "    ----------\n",
    "    x : numpy.ndarray\n",
    "        set of inputs of shape :code:`(n_particles, dimensions)`\n",
    "\n",
    "    Returns\n",
    "    -------\n",
    "    numpy.ndarray\n",
    "        computed cost of size :code:`(n_particles, )`\n",
    "\n",
    "    Raises\n",
    "    ------\n",
    "    IndexError\n",
    "        When the input dimensions is greater than what the function\n",
    "        allows\n",
    "    ValueError\n",
    "        When the input is out of bounds with respect to the function\n",
    "        domain\n",
    "    \"\"\"\n",
    "    if not x.shape[1] == 2:\n",
    "        raise IndexError(\"Easom function only takes two-dimensional input.\")\n",
    "    if not np.logical_and(x >= -100, x <= 100).all():\n",
    "        raise ValueError(\n",
    "            \"Input for Easom function must be within [-100, 100].\"\n",
    "        )\n",
    "\n",
    "    x_ = x[:, 0]\n",
    "    y_ = x[:, 1]\n",
    "\n",
    "    j = (\n",
    "        -1\n",
    "        * np.cos(x_)\n",
    "        * np.cos(y_)\n",
    "        * np.exp(-1 * ((x_ - np.pi) ** 2 + (y_ - np.pi) ** 2))\n",
    "    )\n",
    "\n",
    "    return j"
   ]
  },
  {
   "cell_type": "code",
   "execution_count": 10,
   "metadata": {},
   "outputs": [],
   "source": [
    "grid_mat = nx.ring_of_cliques(2,4)\n",
    "adj_matrix = nx.adjacency_matrix(grid_mat).todense()"
   ]
  },
  {
   "cell_type": "code",
   "execution_count": 15,
   "metadata": {},
   "outputs": [
    {
     "name": "stdout",
     "output_type": "stream",
     "text": [
      "0\n",
      "1\n",
      "2\n",
      "3\n",
      "4\n",
      "5\n",
      "6\n",
      "7\n",
      "8\n",
      "9\n"
     ]
    },
    {
     "data": {
      "text/plain": [
       "(array([[ 14.00097526,  -5.23048832],\n",
       "        [-53.86343931,  37.16685069],\n",
       "        [-76.90752995,  57.08163002],\n",
       "        [ 86.07874366,  47.52508902],\n",
       "        [ 96.75147427,  48.37880807],\n",
       "        [ 77.67543377,  31.42144536],\n",
       "        [ 73.84751983,  33.22275012],\n",
       "        [  5.74669044,  25.78395525]]),\n",
       " array([-1.48752494e-083,  0.00000000e+000, -0.00000000e+000,\n",
       "        -0.00000000e+000, -0.00000000e+000,  0.00000000e+000,\n",
       "         0.00000000e+000, -1.71727685e-226]),\n",
       " array([14.00097526, -5.23048832]),\n",
       " -1.487524942912373e-83)"
      ]
     },
     "execution_count": 15,
     "metadata": {},
     "output_type": "execute_result"
    }
   ],
   "source": [
    "run(easom, adj_matrix, epochs=10,\n",
    "    lb=[-100, -100], ub=[100, 100],\n",
    "    c0=0.85, c1=1, c2=2, c3=0, n=adj_matrix.shape[0])"
   ]
  },
  {
   "cell_type": "code",
   "execution_count": null,
   "metadata": {},
   "outputs": [],
   "source": []
  },
  {
   "cell_type": "code",
   "execution_count": null,
   "metadata": {},
   "outputs": [],
   "source": []
  }
 ],
 "metadata": {
  "kernelspec": {
   "display_name": "env",
   "language": "python",
   "name": "python3"
  },
  "language_info": {
   "codemirror_mode": {
    "name": "ipython",
    "version": 3
   },
   "file_extension": ".py",
   "mimetype": "text/x-python",
   "name": "python",
   "nbconvert_exporter": "python",
   "pygments_lexer": "ipython3",
   "version": "3.10.11"
  },
  "orig_nbformat": 4
 },
 "nbformat": 4,
 "nbformat_minor": 2
}
